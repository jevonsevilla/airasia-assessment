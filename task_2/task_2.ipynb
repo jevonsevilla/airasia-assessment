{
 "cells": [
  {
   "cell_type": "markdown",
   "metadata": {},
   "source": [
    "# AirAsia Assessment"
   ]
  },
  {
   "cell_type": "code",
   "execution_count": 72,
   "metadata": {},
   "outputs": [],
   "source": [
    "# configs\n",
    "fp_data = 'data/AncillaryScoring_insurance.csv'\n",
    "fp_encoder = 'encoder/encoder.pickle'"
   ]
  },
  {
   "cell_type": "code",
   "execution_count": 8,
   "metadata": {},
   "outputs": [],
   "source": [
    "import pandas as pd\n",
    "df = pd.read_csv(fp, engine='python')"
   ]
  },
  {
   "cell_type": "code",
   "execution_count": 58,
   "metadata": {},
   "outputs": [
    {
     "name": "stdout",
     "output_type": "stream",
     "text": [
      "<class 'pandas.core.frame.DataFrame'>\n",
      "RangeIndex: 50000 entries, 0 to 49999\n",
      "Data columns (total 14 columns):\n",
      " #   Column               Non-Null Count  Dtype  \n",
      "---  ------               --------------  -----  \n",
      " 0   PAXCOUNT             50000 non-null  int64  \n",
      " 1   SALESCHANNEL         50000 non-null  object \n",
      " 2   TRIPTYPEDESC         50000 non-null  object \n",
      " 3   PURCHASELEAD         50000 non-null  int64  \n",
      " 4   LENGTHOFSTAY         50000 non-null  int64  \n",
      " 5   flight_hour          50000 non-null  int64  \n",
      " 6   flight_day           50000 non-null  object \n",
      " 7   ROUTE                50000 non-null  object \n",
      " 8   geoNetwork_country   50000 non-null  object \n",
      " 9   BAGGAGE_CATEGORY     50000 non-null  int64  \n",
      " 10  SEAT_CATEGORY        50000 non-null  int64  \n",
      " 11  FNB_CATEGORY         50000 non-null  int64  \n",
      " 12  INS_FLAG             50000 non-null  int64  \n",
      " 13  flightDuration_hour  50000 non-null  float64\n",
      "dtypes: float64(1), int64(8), object(5)\n",
      "memory usage: 5.3+ MB\n"
     ]
    }
   ],
   "source": [
    "df.info()"
   ]
  },
  {
   "cell_type": "code",
   "execution_count": 70,
   "metadata": {},
   "outputs": [
    {
     "data": {
      "text/plain": [
       "0    42522\n",
       "1     7478\n",
       "Name: INS_FLAG, dtype: int64"
      ]
     },
     "execution_count": 70,
     "metadata": {},
     "output_type": "execute_result"
    }
   ],
   "source": [
    "df.INS_FLAG.value_counts()"
   ]
  },
  {
   "cell_type": "code",
   "execution_count": 71,
   "metadata": {},
   "outputs": [],
   "source": [
    "def load_airline_data(fp):\n",
    "    df = pd.read_csv(fp, engine='python')\n",
    "\n",
    "    # drop redundant row\n",
    "    df = df[df.columns.drop('Id')]\n",
    "\n",
    "    return df\n",
    "\n",
    "def process_airline_data(df, fp, train_encoding=False, target=False):\n",
    "    # retain only top 10 countries\n",
    "    top_10 = df.geoNetwork_country.value_counts().head(10).index.to_list()\n",
    "    is_top_10 = df.geoNetwork_country.isin(top_10)\n",
    "    df.loc[~is_top_10, 'geoNetwork_country'] = 'Others'\n",
    "\n",
    "    # remove columns\n",
    "    cols_drop = [\n",
    "        'ROUTE'         # high cardinality\n",
    "        ]\n",
    "    df = df[df.columns.drop(cols_drop)]\n",
    "\n",
    "    # encode features\n",
    "    # enumerate categorical columns\n",
    "    cat_cols = [\"SALESCHANNEL\", \"TRIPTYPEDESC\", \"flight_day\", \"geoNetwork_country\"]\n",
    "\n",
    "    df_cat = df[cat_cols]\n",
    "\n",
    "    if train_encoding:     \n",
    "        # Instantiating the Scikit-Learn OHE object\n",
    "        ohe = OneHotEncoder(handle_unknown='ignore', drop='first', sparse=False)\n",
    "        \n",
    "        # Fitting the DataFrame to the Scikit-Learn one-hot encoder\n",
    "        dummies = ohe.fit_transform(df_cat)\n",
    "\n",
    "        # save trained encoder for future use\n",
    "        with open(fp, 'wb') as f:\n",
    "            pickle.dump(ohe, f)\n",
    "\n",
    "    else:\n",
    "        # load pickled encoder\n",
    "        with open(fp, 'rb') as f:\n",
    "            ohe = pickle.load(f)\n",
    "            \n",
    "        dummies = ohe.transform(df_cat)\n",
    "        \n",
    "    # Using the output dummies and transformer categories to produce a cleaner looking dataframe\n",
    "    dummies_df = pd.DataFrame(dummies)\n",
    "    dummies_df.columns = ohe.get_feature_names_out()\n",
    "\n",
    "    numeric_df = df.drop(cat_cols, axis=1).reset_index(drop=True)\n",
    "\n",
    "    df = pd.concat([dummies_df, numeric_df], axis=1)\n",
    "\n",
    "    return df"
   ]
  },
  {
   "cell_type": "code",
   "execution_count": 63,
   "metadata": {},
   "outputs": [
    {
     "data": {
      "text/plain": [
       "Australia        17872\n",
       "Malaysia          7174\n",
       "South Korea       4559\n",
       "Japan             3885\n",
       "China             3387\n",
       "Indonesia         2369\n",
       "Taiwan            2077\n",
       "Thailand          2030\n",
       "India             1270\n",
       "New Zealand       1074\n",
       "Singapore         1044\n",
       "United States      456\n",
       "Vietnam            388\n",
       "Macau              304\n",
       "Hong Kong          295\n",
       "Name: geoNetwork_country, dtype: int64"
      ]
     },
     "execution_count": 63,
     "metadata": {},
     "output_type": "execute_result"
    }
   ],
   "source": [
    "test = load_airline_data(fp_dataes"
   ]
  },
  {
   "cell_type": "code",
   "execution_count": 68,
   "metadata": {},
   "outputs": [
    {
     "data": {
      "text/plain": [
       "0        True\n",
       "1        True\n",
       "2        True\n",
       "3        True\n",
       "4        True\n",
       "         ... \n",
       "49995    True\n",
       "49996    True\n",
       "49997    True\n",
       "49998    True\n",
       "49999    True\n",
       "Name: geoNetwork_country, Length: 50000, dtype: bool"
      ]
     },
     "execution_count": 68,
     "metadata": {},
     "output_type": "execute_result"
    }
   ],
   "source": []
  },
  {
   "cell_type": "code",
   "execution_count": 40,
   "metadata": {},
   "outputs": [],
   "source": [
    "df = load_airline_data(fp)"
   ]
  },
  {
   "cell_type": "code",
   "execution_count": 41,
   "metadata": {},
   "outputs": [
    {
     "data": {
      "text/html": [
       "<div>\n",
       "<style scoped>\n",
       "    .dataframe tbody tr th:only-of-type {\n",
       "        vertical-align: middle;\n",
       "    }\n",
       "\n",
       "    .dataframe tbody tr th {\n",
       "        vertical-align: top;\n",
       "    }\n",
       "\n",
       "    .dataframe thead th {\n",
       "        text-align: right;\n",
       "    }\n",
       "</style>\n",
       "<table border=\"1\" class=\"dataframe\">\n",
       "  <thead>\n",
       "    <tr style=\"text-align: right;\">\n",
       "      <th></th>\n",
       "      <th>PAXCOUNT</th>\n",
       "      <th>SALESCHANNEL</th>\n",
       "      <th>TRIPTYPEDESC</th>\n",
       "      <th>PURCHASELEAD</th>\n",
       "      <th>LENGTHOFSTAY</th>\n",
       "      <th>flight_hour</th>\n",
       "      <th>flight_day</th>\n",
       "      <th>ROUTE</th>\n",
       "      <th>geoNetwork_country</th>\n",
       "      <th>BAGGAGE_CATEGORY</th>\n",
       "      <th>SEAT_CATEGORY</th>\n",
       "      <th>FNB_CATEGORY</th>\n",
       "      <th>INS_FLAG</th>\n",
       "      <th>flightDuration_hour</th>\n",
       "    </tr>\n",
       "  </thead>\n",
       "  <tbody>\n",
       "    <tr>\n",
       "      <th>0</th>\n",
       "      <td>2</td>\n",
       "      <td>Internet</td>\n",
       "      <td>RoundTrip</td>\n",
       "      <td>262</td>\n",
       "      <td>19</td>\n",
       "      <td>7</td>\n",
       "      <td>Sat</td>\n",
       "      <td>AKLDEL</td>\n",
       "      <td>New Zealand</td>\n",
       "      <td>1</td>\n",
       "      <td>0</td>\n",
       "      <td>0</td>\n",
       "      <td>0</td>\n",
       "      <td>5.52</td>\n",
       "    </tr>\n",
       "    <tr>\n",
       "      <th>1</th>\n",
       "      <td>1</td>\n",
       "      <td>Internet</td>\n",
       "      <td>RoundTrip</td>\n",
       "      <td>112</td>\n",
       "      <td>20</td>\n",
       "      <td>3</td>\n",
       "      <td>Sat</td>\n",
       "      <td>AKLDEL</td>\n",
       "      <td>New Zealand</td>\n",
       "      <td>0</td>\n",
       "      <td>0</td>\n",
       "      <td>0</td>\n",
       "      <td>0</td>\n",
       "      <td>5.52</td>\n",
       "    </tr>\n",
       "    <tr>\n",
       "      <th>2</th>\n",
       "      <td>2</td>\n",
       "      <td>Internet</td>\n",
       "      <td>RoundTrip</td>\n",
       "      <td>243</td>\n",
       "      <td>22</td>\n",
       "      <td>17</td>\n",
       "      <td>Wed</td>\n",
       "      <td>AKLDEL</td>\n",
       "      <td>India</td>\n",
       "      <td>1</td>\n",
       "      <td>1</td>\n",
       "      <td>0</td>\n",
       "      <td>0</td>\n",
       "      <td>5.52</td>\n",
       "    </tr>\n",
       "    <tr>\n",
       "      <th>3</th>\n",
       "      <td>1</td>\n",
       "      <td>Internet</td>\n",
       "      <td>RoundTrip</td>\n",
       "      <td>96</td>\n",
       "      <td>31</td>\n",
       "      <td>4</td>\n",
       "      <td>Sat</td>\n",
       "      <td>AKLDEL</td>\n",
       "      <td>New Zealand</td>\n",
       "      <td>0</td>\n",
       "      <td>0</td>\n",
       "      <td>1</td>\n",
       "      <td>0</td>\n",
       "      <td>5.52</td>\n",
       "    </tr>\n",
       "    <tr>\n",
       "      <th>4</th>\n",
       "      <td>2</td>\n",
       "      <td>Internet</td>\n",
       "      <td>RoundTrip</td>\n",
       "      <td>68</td>\n",
       "      <td>22</td>\n",
       "      <td>15</td>\n",
       "      <td>Wed</td>\n",
       "      <td>AKLDEL</td>\n",
       "      <td>India</td>\n",
       "      <td>1</td>\n",
       "      <td>0</td>\n",
       "      <td>1</td>\n",
       "      <td>0</td>\n",
       "      <td>5.52</td>\n",
       "    </tr>\n",
       "  </tbody>\n",
       "</table>\n",
       "</div>"
      ],
      "text/plain": [
       "   PAXCOUNT SALESCHANNEL TRIPTYPEDESC  PURCHASELEAD  LENGTHOFSTAY  \\\n",
       "0         2     Internet    RoundTrip           262            19   \n",
       "1         1     Internet    RoundTrip           112            20   \n",
       "2         2     Internet    RoundTrip           243            22   \n",
       "3         1     Internet    RoundTrip            96            31   \n",
       "4         2     Internet    RoundTrip            68            22   \n",
       "\n",
       "   flight_hour flight_day   ROUTE geoNetwork_country  BAGGAGE_CATEGORY  \\\n",
       "0            7        Sat  AKLDEL        New Zealand                 1   \n",
       "1            3        Sat  AKLDEL        New Zealand                 0   \n",
       "2           17        Wed  AKLDEL              India                 1   \n",
       "3            4        Sat  AKLDEL        New Zealand                 0   \n",
       "4           15        Wed  AKLDEL              India                 1   \n",
       "\n",
       "   SEAT_CATEGORY  FNB_CATEGORY  INS_FLAG  flightDuration_hour  \n",
       "0              0             0         0                 5.52  \n",
       "1              0             0         0                 5.52  \n",
       "2              1             0         0                 5.52  \n",
       "3              0             1         0                 5.52  \n",
       "4              0             1         0                 5.52  "
      ]
     },
     "execution_count": 41,
     "metadata": {},
     "output_type": "execute_result"
    }
   ],
   "source": [
    "df.head()"
   ]
  },
  {
   "cell_type": "code",
   "execution_count": 57,
   "metadata": {},
   "outputs": [
    {
     "data": {
      "text/plain": [
       "AKLKUL    2680\n",
       "PENTPE     924\n",
       "MELSGN     842\n",
       "ICNSIN     801\n",
       "DMKKIX     744\n",
       "ICNSYD     695\n",
       "DMKPER     679\n",
       "DPSICN     666\n",
       "DMKOOL     655\n",
       "MELPEN     649\n",
       "MELTPE     644\n",
       "SGNSYD     614\n",
       "DMKSYD     532\n",
       "COKSYD     511\n",
       "COKMEL     474\n",
       "CMBMEL     465\n",
       "HNDPEN     442\n",
       "PENPER     437\n",
       "DPSPVG     417\n",
       "CGKICN     414\n",
       "Name: ROUTE, dtype: int64"
      ]
     },
     "execution_count": 57,
     "metadata": {},
     "output_type": "execute_result"
    }
   ],
   "source": [
    "df.ROUTE.value_counts(dropna=False).head(20)"
   ]
  },
  {
   "cell_type": "code",
   "execution_count": 45,
   "metadata": {},
   "outputs": [
    {
     "data": {
      "text/html": [
       "<div>\n",
       "<style scoped>\n",
       "    .dataframe tbody tr th:only-of-type {\n",
       "        vertical-align: middle;\n",
       "    }\n",
       "\n",
       "    .dataframe tbody tr th {\n",
       "        vertical-align: top;\n",
       "    }\n",
       "\n",
       "    .dataframe thead th {\n",
       "        text-align: right;\n",
       "    }\n",
       "</style>\n",
       "<table border=\"1\" class=\"dataframe\">\n",
       "  <thead>\n",
       "    <tr style=\"text-align: right;\">\n",
       "      <th></th>\n",
       "      <th>BAGGAGE_CATEGORY</th>\n",
       "      <th>SEAT_CATEGORY</th>\n",
       "      <th>FNB_CATEGORY</th>\n",
       "      <th>PAXCOUNT</th>\n",
       "      <th>PURCHASELEAD</th>\n",
       "      <th>flight_hour</th>\n",
       "      <th>flightDuration_hour</th>\n",
       "      <th>LENGTHOFSTAY</th>\n",
       "      <th>INS_FLAG</th>\n",
       "    </tr>\n",
       "  </thead>\n",
       "  <tbody>\n",
       "    <tr>\n",
       "      <th>6</th>\n",
       "      <td>1</td>\n",
       "      <td>1</td>\n",
       "      <td>0</td>\n",
       "      <td>1.775715</td>\n",
       "      <td>94.885942</td>\n",
       "      <td>8.971706</td>\n",
       "      <td>7.390946</td>\n",
       "      <td>21.329207</td>\n",
       "      <td>0.183319</td>\n",
       "    </tr>\n",
       "    <tr>\n",
       "      <th>5</th>\n",
       "      <td>1</td>\n",
       "      <td>0</td>\n",
       "      <td>1</td>\n",
       "      <td>1.698120</td>\n",
       "      <td>86.697996</td>\n",
       "      <td>9.082784</td>\n",
       "      <td>7.527287</td>\n",
       "      <td>30.337109</td>\n",
       "      <td>0.150629</td>\n",
       "    </tr>\n",
       "    <tr>\n",
       "      <th>7</th>\n",
       "      <td>1</td>\n",
       "      <td>1</td>\n",
       "      <td>1</td>\n",
       "      <td>1.675143</td>\n",
       "      <td>80.491220</td>\n",
       "      <td>9.195667</td>\n",
       "      <td>7.629143</td>\n",
       "      <td>29.948119</td>\n",
       "      <td>0.185975</td>\n",
       "    </tr>\n",
       "    <tr>\n",
       "      <th>4</th>\n",
       "      <td>1</td>\n",
       "      <td>0</td>\n",
       "      <td>0</td>\n",
       "      <td>1.641849</td>\n",
       "      <td>80.703466</td>\n",
       "      <td>8.884996</td>\n",
       "      <td>7.015957</td>\n",
       "      <td>25.132523</td>\n",
       "      <td>0.159329</td>\n",
       "    </tr>\n",
       "    <tr>\n",
       "      <th>0</th>\n",
       "      <td>0</td>\n",
       "      <td>0</td>\n",
       "      <td>0</td>\n",
       "      <td>1.451076</td>\n",
       "      <td>91.857102</td>\n",
       "      <td>9.127977</td>\n",
       "      <td>7.048469</td>\n",
       "      <td>14.715830</td>\n",
       "      <td>0.106743</td>\n",
       "    </tr>\n",
       "    <tr>\n",
       "      <th>1</th>\n",
       "      <td>0</td>\n",
       "      <td>0</td>\n",
       "      <td>1</td>\n",
       "      <td>1.378252</td>\n",
       "      <td>78.794797</td>\n",
       "      <td>9.101432</td>\n",
       "      <td>7.391494</td>\n",
       "      <td>15.990061</td>\n",
       "      <td>0.120725</td>\n",
       "    </tr>\n",
       "    <tr>\n",
       "      <th>3</th>\n",
       "      <td>0</td>\n",
       "      <td>1</td>\n",
       "      <td>1</td>\n",
       "      <td>1.338041</td>\n",
       "      <td>80.747573</td>\n",
       "      <td>9.380406</td>\n",
       "      <td>7.483831</td>\n",
       "      <td>12.311562</td>\n",
       "      <td>0.153575</td>\n",
       "    </tr>\n",
       "    <tr>\n",
       "      <th>2</th>\n",
       "      <td>0</td>\n",
       "      <td>1</td>\n",
       "      <td>0</td>\n",
       "      <td>1.327320</td>\n",
       "      <td>85.410438</td>\n",
       "      <td>9.282861</td>\n",
       "      <td>7.124188</td>\n",
       "      <td>11.713918</td>\n",
       "      <td>0.130155</td>\n",
       "    </tr>\n",
       "  </tbody>\n",
       "</table>\n",
       "</div>"
      ],
      "text/plain": [
       "   BAGGAGE_CATEGORY  SEAT_CATEGORY  FNB_CATEGORY  PAXCOUNT  PURCHASELEAD  \\\n",
       "6                 1              1             0  1.775715     94.885942   \n",
       "5                 1              0             1  1.698120     86.697996   \n",
       "7                 1              1             1  1.675143     80.491220   \n",
       "4                 1              0             0  1.641849     80.703466   \n",
       "0                 0              0             0  1.451076     91.857102   \n",
       "1                 0              0             1  1.378252     78.794797   \n",
       "3                 0              1             1  1.338041     80.747573   \n",
       "2                 0              1             0  1.327320     85.410438   \n",
       "\n",
       "   flight_hour  flightDuration_hour  LENGTHOFSTAY  INS_FLAG  \n",
       "6     8.971706             7.390946     21.329207  0.183319  \n",
       "5     9.082784             7.527287     30.337109  0.150629  \n",
       "7     9.195667             7.629143     29.948119  0.185975  \n",
       "4     8.884996             7.015957     25.132523  0.159329  \n",
       "0     9.127977             7.048469     14.715830  0.106743  \n",
       "1     9.101432             7.391494     15.990061  0.120725  \n",
       "3     9.380406             7.483831     12.311562  0.153575  \n",
       "2     9.282861             7.124188     11.713918  0.130155  "
      ]
     },
     "execution_count": 45,
     "metadata": {},
     "output_type": "execute_result"
    }
   ],
   "source": [
    "df.groupby(['BAGGAGE_CATEGORY','SEAT_CATEGORY', 'FNB_CATEGORY'])\\\n",
    "    .agg({'PAXCOUNT': 'count',\n",
    "          'PURCHASELEAD': 'mean',\n",
    "          'flight_hour': 'mean',\n",
    "          'PAXCOUNT': 'mean',\n",
    "          'flightDuration_hour': 'mean',\n",
    "          'LENGTHOFSTAY': 'mean',\n",
    "          'INS_FLAG': 'mean'}).reset_index().sort_values('PAXCOUNT', ascending=False)"
   ]
  },
  {
   "cell_type": "markdown",
   "metadata": {},
   "source": [
    "-combinations with seat category are least pppular"
   ]
  },
  {
   "cell_type": "code",
   "execution_count": 46,
   "metadata": {},
   "outputs": [
    {
     "data": {
      "text/html": [
       "<div>\n",
       "<style scoped>\n",
       "    .dataframe tbody tr th:only-of-type {\n",
       "        vertical-align: middle;\n",
       "    }\n",
       "\n",
       "    .dataframe tbody tr th {\n",
       "        vertical-align: top;\n",
       "    }\n",
       "\n",
       "    .dataframe thead th {\n",
       "        text-align: right;\n",
       "    }\n",
       "</style>\n",
       "<table border=\"1\" class=\"dataframe\">\n",
       "  <thead>\n",
       "    <tr style=\"text-align: right;\">\n",
       "      <th></th>\n",
       "      <th>SALESCHANNEL</th>\n",
       "      <th>TRIPTYPEDESC</th>\n",
       "      <th>PAXCOUNT</th>\n",
       "      <th>PURCHASELEAD</th>\n",
       "      <th>flight_hour</th>\n",
       "      <th>flightDuration_hour</th>\n",
       "      <th>LENGTHOFSTAY</th>\n",
       "      <th>INS_FLAG</th>\n",
       "    </tr>\n",
       "  </thead>\n",
       "  <tbody>\n",
       "    <tr>\n",
       "      <th>2</th>\n",
       "      <td>Internet</td>\n",
       "      <td>RoundTrip</td>\n",
       "      <td>1.592287</td>\n",
       "      <td>85.270700</td>\n",
       "      <td>9.020432</td>\n",
       "      <td>7.290837</td>\n",
       "      <td>23.809594</td>\n",
       "      <td>0.155942</td>\n",
       "    </tr>\n",
       "    <tr>\n",
       "      <th>5</th>\n",
       "      <td>Mobile</td>\n",
       "      <td>RoundTrip</td>\n",
       "      <td>1.585239</td>\n",
       "      <td>81.678342</td>\n",
       "      <td>9.411365</td>\n",
       "      <td>7.115645</td>\n",
       "      <td>17.343996</td>\n",
       "      <td>0.108470</td>\n",
       "    </tr>\n",
       "    <tr>\n",
       "      <th>1</th>\n",
       "      <td>Internet</td>\n",
       "      <td>OneWay</td>\n",
       "      <td>1.579946</td>\n",
       "      <td>94.704607</td>\n",
       "      <td>9.317073</td>\n",
       "      <td>8.003225</td>\n",
       "      <td>18.750678</td>\n",
       "      <td>0.048780</td>\n",
       "    </tr>\n",
       "    <tr>\n",
       "      <th>0</th>\n",
       "      <td>Internet</td>\n",
       "      <td>CircleTrip</td>\n",
       "      <td>1.571429</td>\n",
       "      <td>94.205357</td>\n",
       "      <td>9.160714</td>\n",
       "      <td>7.834911</td>\n",
       "      <td>25.660714</td>\n",
       "      <td>0.044643</td>\n",
       "    </tr>\n",
       "    <tr>\n",
       "      <th>3</th>\n",
       "      <td>Mobile</td>\n",
       "      <td>CircleTrip</td>\n",
       "      <td>1.500000</td>\n",
       "      <td>125.750000</td>\n",
       "      <td>9.500000</td>\n",
       "      <td>5.802500</td>\n",
       "      <td>13.000000</td>\n",
       "      <td>0.000000</td>\n",
       "    </tr>\n",
       "    <tr>\n",
       "      <th>4</th>\n",
       "      <td>Mobile</td>\n",
       "      <td>OneWay</td>\n",
       "      <td>1.277778</td>\n",
       "      <td>26.833333</td>\n",
       "      <td>7.944444</td>\n",
       "      <td>7.219444</td>\n",
       "      <td>3.388889</td>\n",
       "      <td>0.111111</td>\n",
       "    </tr>\n",
       "  </tbody>\n",
       "</table>\n",
       "</div>"
      ],
      "text/plain": [
       "  SALESCHANNEL TRIPTYPEDESC  PAXCOUNT  PURCHASELEAD  flight_hour  \\\n",
       "2     Internet    RoundTrip  1.592287     85.270700     9.020432   \n",
       "5       Mobile    RoundTrip  1.585239     81.678342     9.411365   \n",
       "1     Internet       OneWay  1.579946     94.704607     9.317073   \n",
       "0     Internet   CircleTrip  1.571429     94.205357     9.160714   \n",
       "3       Mobile   CircleTrip  1.500000    125.750000     9.500000   \n",
       "4       Mobile       OneWay  1.277778     26.833333     7.944444   \n",
       "\n",
       "   flightDuration_hour  LENGTHOFSTAY  INS_FLAG  \n",
       "2             7.290837     23.809594  0.155942  \n",
       "5             7.115645     17.343996  0.108470  \n",
       "1             8.003225     18.750678  0.048780  \n",
       "0             7.834911     25.660714  0.044643  \n",
       "3             5.802500     13.000000  0.000000  \n",
       "4             7.219444      3.388889  0.111111  "
      ]
     },
     "execution_count": 46,
     "metadata": {},
     "output_type": "execute_result"
    }
   ],
   "source": [
    "df.groupby(['SALESCHANNEL', 'TRIPTYPEDESC'])\\\n",
    "    .agg({'PAXCOUNT': 'count',\n",
    "          'PURCHASELEAD': 'mean',\n",
    "          'flight_hour': 'mean',\n",
    "          'PAXCOUNT': 'mean',\n",
    "          'flightDuration_hour': 'mean',\n",
    "          'LENGTHOFSTAY': 'mean',\n",
    "          'INS_FLAG': 'mean'}).reset_index().sort_values('PAXCOUNT', ascending=False)"
   ]
  },
  {
   "cell_type": "markdown",
   "metadata": {},
   "source": [
    "-significantly less insurance for non-roundtrip flights  \n",
    "-majority of trips are roundtrips  \n",
    "-Internet is still the dominant booking method"
   ]
  },
  {
   "cell_type": "code",
   "execution_count": 11,
   "metadata": {},
   "outputs": [
    {
     "data": {
      "image/png": "[encoded data removed]",
      "text/plain": [
       "<Figure size 1296x720 with 2 Axes>"
      ]
     },
     "metadata": {
      "needs_background": "light"
     },
     "output_type": "display_data"
    }
   ],
   "source": [
    "import matplotlib.pyplot as plt\n",
    "import seaborn as sn\n",
    "\n",
    "%matplotlib inline\n",
    "plt.rcParams[\"figure.figsize\"] = [18, 10]\n",
    "\n",
    "corrMatrix = df.corr()\n",
    "plt.figure(figsize=(18,10))\n",
    "sn.heatmap(corrMatrix, annot=True)\n",
    "\n",
    "plt.show()"
   ]
  },
  {
   "cell_type": "code",
   "execution_count": null,
   "metadata": {},
   "outputs": [],
   "source": []
  },
  {
   "cell_type": "markdown",
   "metadata": {},
   "source": [
    "## Analytical Story"
   ]
  },
  {
   "cell_type": "code",
   "execution_count": null,
   "metadata": {},
   "outputs": [],
   "source": []
  },
  {
   "cell_type": "markdown",
   "metadata": {},
   "source": [
    "## Model Development"
   ]
  },
  {
   "cell_type": "markdown",
   "metadata": {},
   "source": [
    "## Deployment Design"
   ]
  },
  {
   "cell_type": "markdown",
   "metadata": {},
   "source": [
    "## Testing"
   ]
  }
 ],
 "metadata": {
  "interpreter": {
   "hash": "b3ba2566441a7c06988d0923437866b63cedc61552a5af99d1f4fb67d367b25f"
  },
  "kernelspec": {
   "display_name": "Python 3.7.6 ('base')",
   "language": "python",
   "name": "python3"
  },
  "language_info": {
   "codemirror_mode": {
    "name": "ipython",
    "version": 3
   },
   "file_extension": ".py",
   "mimetype": "text/x-python",
   "name": "python",
   "nbconvert_exporter": "python",
   "pygments_lexer": "ipython3",
   "version": "3.7.6"
  },
  "orig_nbformat": 4
 },
 "nbformat": 4,
 "nbformat_minor": 2
}
